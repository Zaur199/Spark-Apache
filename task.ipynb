{
 "cells": [
  {
   "cell_type": "markdown",
   "metadata": {},
   "source": [
    "Найти самую длинную последовательность упорядоченных чисел в RDD и вывести её."
   ]
  },
  {
   "cell_type": "code",
   "execution_count": 12,
   "metadata": {},
   "outputs": [],
   "source": [
    "from pyspark import SparkContext"
   ]
  },
  {
   "cell_type": "code",
   "execution_count": 13,
   "metadata": {},
   "outputs": [],
   "source": [
    "# Инициализируем SparkContext\n",
    "sc = SparkContext(\"local\", \"Longest Ordered Sequence\")"
   ]
  },
  {
   "cell_type": "code",
   "execution_count": 14,
   "metadata": {},
   "outputs": [],
   "source": [
    "# Пример данных\n",
    "data = [1, 2, 3, 4, 2, 3, 4, 5, 6, 7, 1, 2]"
   ]
  },
  {
   "cell_type": "code",
   "execution_count": 15,
   "metadata": {},
   "outputs": [],
   "source": [
    "# Создаем RDD\n",
    "rdd = sc.parallelize(data)"
   ]
  },
  {
   "cell_type": "code",
   "execution_count": 6,
   "metadata": {},
   "outputs": [],
   "source": [
    "# Функция для поиска самой длинной последовательности в каждой партиции\n",
    "def find_longest_sequence(partition):\n",
    "    max_sequence = []\n",
    "    current_sequence = []\n",
    "    last_element = None\n",
    "    \n",
    "    for element in partition:\n",
    "        if last_element is None or element >= last_element:\n",
    "            current_sequence.append(element)\n",
    "        else:\n",
    "            if len(current_sequence) > len(max_sequence):\n",
    "                max_sequence = current_sequence[:]\n",
    "            current_sequence = [element]\n",
    "        last_element = element\n",
    "\n",
    "    if len(current_sequence) > len(max_sequence):\n",
    "        max_sequence = current_sequence[:]\n",
    "\n",
    "    return [max_sequence]"
   ]
  },
  {
   "cell_type": "code",
   "execution_count": 16,
   "metadata": {},
   "outputs": [],
   "source": [
    "\n",
    "# Находим самую длинную последовательность в каждой партиции\n",
    "partitioned_sequences = rdd.mapPartitions(find_longest_sequence)"
   ]
  },
  {
   "cell_type": "code",
   "execution_count": 17,
   "metadata": {},
   "outputs": [],
   "source": [
    "# Находим самую длинную последовательность среди всех партиций\n",
    "longest_sequence = partitioned_sequences.reduce(lambda a, b: a if len(a[0]) > len(b[0]) else b)\n"
   ]
  },
  {
   "cell_type": "code",
   "execution_count": 20,
   "metadata": {},
   "outputs": [
    {
     "name": "stdout",
     "output_type": "stream",
     "text": [
      "Самая длинная последовательность: [2, 3, 4, 5, 6, 7]\n"
     ]
    }
   ],
   "source": [
    "# Выводим результат\n",
    "print(\"Самая длинная последовательность:\", longest_sequence)"
   ]
  },
  {
   "cell_type": "code",
   "execution_count": 21,
   "metadata": {},
   "outputs": [],
   "source": [
    "# Останавливаем SparkContext\n",
    "sc.stop()\n"
   ]
  }
 ],
 "metadata": {
  "kernelspec": {
   "display_name": "base",
   "language": "python",
   "name": "python3"
  },
  "language_info": {
   "codemirror_mode": {
    "name": "ipython",
    "version": 3
   },
   "file_extension": ".py",
   "mimetype": "text/x-python",
   "name": "python",
   "nbconvert_exporter": "python",
   "pygments_lexer": "ipython3",
   "version": "3.11.7"
  }
 },
 "nbformat": 4,
 "nbformat_minor": 2
}
